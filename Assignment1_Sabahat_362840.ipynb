{
  "metadata": {
    "language_info": {
      "codemirror_mode": {
        "name": "python",
        "version": 3
      },
      "file_extension": ".py",
      "mimetype": "text/x-python",
      "name": "python",
      "nbconvert_exporter": "python",
      "pygments_lexer": "ipython3",
      "version": "3.8"
    },
    "kernelspec": {
      "name": "python",
      "display_name": "Python (Pyodide)",
      "language": "python"
    }
  },
  "nbformat_minor": 4,
  "nbformat": 4,
  "cells": [
    {
      "cell_type": "code",
      "source": "import pandas as pd\n\ndata=[['Reg000001','AAA',1111111,90,'OS','Pass'],['Reg000002','BBB',2222222,80,'ML','Pass'],\n      ['Reg000003','CCC',3333333,40,'BDA','Fail'],['Reg000004','DDD',4444444,78,'NLP','Pass'],\n      ['Reg000005','EEE',5555555,63,'MMAI','Pass'],['Reg000003','CCC',3333333,40,'OS','Fail'],\n      ['Reg000006','FFF',None,'105','DA','Pass']]\n\ndf=pd.DataFrame(data,columns=['Index','Name','Mobile_No','Marks','Course','Status'])\n\nprint (df)",
      "metadata": {
        "trusted": true
      },
      "execution_count": 50,
      "outputs": [
        {
          "name": "stdout",
          "text": "       Index Name  Mobile_No Marks Course Status\n0  Reg000001  AAA  1111111.0    90     OS   Pass\n1  Reg000002  BBB  2222222.0    80     ML   Pass\n2  Reg000003  CCC  3333333.0    40    BDA   Fail\n3  Reg000004  DDD  4444444.0    78    NLP   Pass\n4  Reg000005  EEE  5555555.0    63   MMAI   Pass\n5  Reg000003  CCC  3333333.0    40     OS   Fail\n6  Reg000006  FFF        NaN   105     DA   Pass\n",
          "output_type": "stream"
        }
      ]
    },
    {
      "cell_type": "code",
      "source": "#Question 1: Count the number of students in the fram\nprint(df.count())",
      "metadata": {
        "trusted": true
      },
      "execution_count": 62,
      "outputs": [
        {
          "name": "stdout",
          "text": "Index        7\nName         7\nMobile_No    6\nMarks        7\nCourse       7\nStatus       7\nGrade        7\nNew Grade    7\ndtype: int64\n",
          "output_type": "stream"
        }
      ]
    },
    {
      "cell_type": "code",
      "source": "#Question 2: Add a new column that should represent the grade letter (A>=90,B>=80,C>=70,D>=60,F<60) based on the marks obtained by students\nimport numpy as np\n\ndf[\"Marks\"] = pd.to_numeric(df[\"Marks\"])\n\ngradePartition = [\n    (df['Marks'] >= 90),\n    (df['Marks'] >=80) & (df['Marks'] <= 90),\n    (df['Marks'] >= 70) & (df['Marks'] <= 80),\n    (df['Marks'] >= 60) & (df['Marks'] <= 70),\n    (df['Marks'] < 60)\n    ]\n\ngrades = ['A', 'B','C','D','F']\n\ndf['Grade']=np.select(gradePartition,grades)\n\nprint(df)",
      "metadata": {
        "trusted": true
      },
      "execution_count": 52,
      "outputs": [
        {
          "name": "stdout",
          "text": "       Index Name  Mobile_No  Marks Course Status Grade\n0  Reg000001  AAA  1111111.0     90     OS   Pass     A\n1  Reg000002  BBB  2222222.0     80     ML   Pass     B\n2  Reg000003  CCC  3333333.0     40    BDA   Fail     F\n3  Reg000004  DDD  4444444.0     78    NLP   Pass     C\n4  Reg000005  EEE  5555555.0     63   MMAI   Pass     D\n5  Reg000003  CCC  3333333.0     40     OS   Fail     F\n6  Reg000006  FFF        NaN    105     DA   Pass     A\n",
          "output_type": "stream"
        }
      ]
    },
    {
      "cell_type": "code",
      "source": "# Question 3: Insert the missing data with proper value input from user\nprint(df.isnull().sum())                 # show the sum of missing values in each column\n\nprint(df.isna())                         # show false for available values, true for not available values\n\nphonenumber = input(\"Enter mobile number \")\n\n\nprint(df)",
      "metadata": {
        "trusted": true
      },
      "execution_count": 66,
      "outputs": [
        {
          "name": "stdout",
          "text": "Index        0\nName         0\nMobile_No    1\nMarks        0\nCourse       0\nStatus       0\nGrade        0\nNew Grade    0\ndtype: int64\n   Index   Name  Mobile_No  Marks  Course  Status  Grade  New Grade\n0  False  False      False  False   False   False  False      False\n1  False  False      False  False   False   False  False      False\n2  False  False      False  False   False   False  False      False\n3  False  False      False  False   False   False  False      False\n4  False  False      False  False   False   False  False      False\n5  False  False      False  False   False   False  False      False\n6  False  False       True  False   False   False  False      False\n   Index Name  Mobile_No  Marks Course Status Grade New Grade\n0      1  AAA  1111111.0     90     OS   Pass     A         A\n1      2  BBB  2222222.0     80     ML   Pass     B         B\n2      3  CCC  3333333.0     40    BDA   Fail     F         F\n3      4  DDD  4444444.0     78    NLP   Pass     C         B\n4      5  EEE  5555555.0     63   MMAI   Pass     D         D\n5      3  CCC  3333333.0     40     OS   Fail     F         F\n6      6  FFF        NaN    105    BDA   Pass     A         A\n",
          "output_type": "stream"
        },
        {
          "output_type": "stream",
          "name": "stdin",
          "text": "Enter mobile number  4\n"
        }
      ]
    },
    {
      "cell_type": "code",
      "source": "#Question 4. Remove the duplicate rows and replace the names with your friends names\nseries=(df.duplicated(subset=['Index', 'Name','Mobile_No']))\nprint(\"\\nBefore dropping duplicate data:\\n\") \nprint(df)\ndf.drop_duplicates()\n\ni=0\nloc=0\nr=range(len(series))\n\nfor i in r:\n  if series[i]== True:\n    loc=i \n    Name= input(\"Enter Name:   \")\n  i=i+1\n\nprint(\"\\nAfter dropping duplicates & Replacing Names:\\n\") \nprint(df)",
      "metadata": {},
      "execution_count": null,
      "outputs": [
        {
          "name": "stdout",
          "text": "\nBefore dropping duplicate data:\n\n   Index Name  Mobile_No  Marks Course Status Grade New Grade\n0      1  AAA  1111111.0     90     OS   Pass     A         A\n1      2  BBB  2222222.0     80     ML   Pass     B         B\n2      3  CCC  3333333.0     40    BDA   Fail     F         F\n3      4  DDD  4444444.0     78    NLP   Pass     C         B\n4      5  EEE  5555555.0     63   MMAI   Pass     D         D\n5      3  CCC  3333333.0     40     OS   Fail     F         F\n6      6  FFF        NaN    105    BDA   Pass     A         A\n\nAfter dropping duplicates & Replacing Names:\n\n   Index Name  Mobile_No  Marks Course Status Grade New Grade\n0      1  AAA  1111111.0     90     OS   Pass     A         A\n1      2  BBB  2222222.0     80     ML   Pass     B         B\n2      3  CCC  3333333.0     40    BDA   Fail     F         F\n3      4  DDD  4444444.0     78    NLP   Pass     C         B\n4      5  EEE  5555555.0     63   MMAI   Pass     D         D\n5      3  CCC  3333333.0     40     OS   Fail     F         F\n6      6  FFF        NaN    105    BDA   Pass     A         A\n",
          "output_type": "stream"
        },
        {
          "output_type": "stream",
          "name": "stdin",
          "text": "Enter Name:    44\n"
        }
      ]
    },
    {
      "cell_type": "code",
      "source": "#Question: 5. Let us assume that teacher decided to upgrade the result of students that lack 2 marks from their result to promote them to next grade. Check and promote such students and print new result\ndf[\"Marks\"] = pd.to_numeric(df[\"Marks\"])\n\nconditions = [\n    (df['Marks'] >= 88),\n    (df['Marks'] >=78) & (df['Marks'] <= 88),\n    (df['Marks'] >= 68) & (df['Marks'] <= 78),\n    (df['Marks'] >= 58) & (df['Marks'] <= 68),\n    (df['Marks'] < 58)\n    ]\n\nvalues2 = ['A', 'B','C','D','F']\n\ndf['New Grade']=np.select(conditions,values2)\n\nprint(df)",
      "metadata": {
        "trusted": true
      },
      "execution_count": 56,
      "outputs": [
        {
          "name": "stdout",
          "text": "       Index Name  Mobile_No  Marks Course Status Grade New Grade\n0  Reg000001  AAA  1111111.0     90     OS   Pass     A         A\n1  Reg000002  BBB  2222222.0     80     ML   Pass     B         B\n2  Reg000003  CCC  3333333.0     40    BDA   Fail     F         F\n3  Reg000004  DDD  4444444.0     78    NLP   Pass     C         B\n4  Reg000005  EEE  5555555.0     63   MMAI   Pass     D         D\n5  Reg000003  CCC  3333333.0     40     OS   Fail     F         F\n6  Reg000006  FFF        NaN    105     DA   Pass     A         A\n",
          "output_type": "stream"
        }
      ]
    },
    {
      "cell_type": "code",
      "source": "#Question 6.Mistakenly, the course name was entered wrongly by teacher, Replace the course “DA” with “BDA” and print updated frame to user\nprint(\"Before Replacement:\\n\")\nprint(df)\n\ndf=df.replace('DA','BDA')\n\nprint(\"After Replacement:\\n\")\nprint(df)",
      "metadata": {
        "trusted": true
      },
      "execution_count": 57,
      "outputs": [
        {
          "name": "stdout",
          "text": "Before Replacement:\n\n       Index Name  Mobile_No  Marks Course Status Grade New Grade\n0  Reg000001  AAA  1111111.0     90     OS   Pass     A         A\n1  Reg000002  BBB  2222222.0     80     ML   Pass     B         B\n2  Reg000003  CCC  3333333.0     40    BDA   Fail     F         F\n3  Reg000004  DDD  4444444.0     78    NLP   Pass     C         B\n4  Reg000005  EEE  5555555.0     63   MMAI   Pass     D         D\n5  Reg000003  CCC  3333333.0     40     OS   Fail     F         F\n6  Reg000006  FFF        NaN    105     DA   Pass     A         A\nAfter Replacement:\n\n       Index Name  Mobile_No  Marks Course Status Grade New Grade\n0  Reg000001  AAA  1111111.0     90     OS   Pass     A         A\n1  Reg000002  BBB  2222222.0     80     ML   Pass     B         B\n2  Reg000003  CCC  3333333.0     40    BDA   Fail     F         F\n3  Reg000004  DDD  4444444.0     78    NLP   Pass     C         B\n4  Reg000005  EEE  5555555.0     63   MMAI   Pass     D         D\n5  Reg000003  CCC  3333333.0     40     OS   Fail     F         F\n6  Reg000006  FFF        NaN    105    BDA   Pass     A         A\n",
          "output_type": "stream"
        }
      ]
    },
    {
      "cell_type": "code",
      "source": "#Question 7. Display a list of students who achieved grade “B”\n\ndf[df['New Grade'] == 'B']",
      "metadata": {
        "trusted": true
      },
      "execution_count": 58,
      "outputs": [
        {
          "execution_count": 58,
          "output_type": "execute_result",
          "data": {
            "text/plain": "       Index Name  Mobile_No  Marks Course Status Grade New Grade\n1  Reg000002  BBB  2222222.0     80     ML   Pass     B         B\n3  Reg000004  DDD  4444444.0     78    NLP   Pass     C         B",
            "text/html": "<div>\n<style scoped>\n    .dataframe tbody tr th:only-of-type {\n        vertical-align: middle;\n    }\n\n    .dataframe tbody tr th {\n        vertical-align: top;\n    }\n\n    .dataframe thead th {\n        text-align: right;\n    }\n</style>\n<table border=\"1\" class=\"dataframe\">\n  <thead>\n    <tr style=\"text-align: right;\">\n      <th></th>\n      <th>Index</th>\n      <th>Name</th>\n      <th>Mobile_No</th>\n      <th>Marks</th>\n      <th>Course</th>\n      <th>Status</th>\n      <th>Grade</th>\n      <th>New Grade</th>\n    </tr>\n  </thead>\n  <tbody>\n    <tr>\n      <th>1</th>\n      <td>Reg000002</td>\n      <td>BBB</td>\n      <td>2222222.0</td>\n      <td>80</td>\n      <td>ML</td>\n      <td>Pass</td>\n      <td>B</td>\n      <td>B</td>\n    </tr>\n    <tr>\n      <th>3</th>\n      <td>Reg000004</td>\n      <td>DDD</td>\n      <td>4444444.0</td>\n      <td>78</td>\n      <td>NLP</td>\n      <td>Pass</td>\n      <td>C</td>\n      <td>B</td>\n    </tr>\n  </tbody>\n</table>\n</div>"
          },
          "metadata": {}
        }
      ]
    },
    {
      "cell_type": "code",
      "source": "#Question 8.Validate the marks for the range 0 to 100 so that any marks that were entered wrongly could be rectified.\ndf[\"Marks\"] = pd.to_numeric(df[\"Marks\"])\n\nseries=df['Marks'].between(0, 100,inclusive=True)\n\nprint(df)\n\nx=0\ni=0\nloc=0\nr=range(len(series))\n\nfor i in r:\n  if series[i]== False:\n    loc=i\n    x=input(\"\\nEnter marks between 0-100:\")\n  i=i+1\n\nif (x >= 60):\n  df.Status[loc]='Pass'\nelse:\n  df.Status[loc]='Fail'\n\n if (x >= 90):\n  df.Grade[loc]='A'\nelif (x >= 80) and (x < 90):\n  df.Grade[loc]='B'\nelif (x >= 70) and (x < 80):\n  df.Grade[loc]='C'\nelif (x >= 60) and (x < 70):\n  df.Grade[loc]='D'\nelse:\n  df.Grade[loc]='F'\n\nif (x >= 88):\n  df.RevisedGrade[loc]='A'\nelif (x >= 78) and (x < 88):\n  df.RevisedGrade[loc]='B'\nelif (x >= 68) and (x < 78):\n  df.RevisedGrade[loc]='C'\nelif (x >= 58) and (x < 68):\n  df.RevisedGrade[loc]='D'\nelse:\n  df.RevisedGrade[loc]='F'\n\n\nprint(\"\\n\")\nprint(df)\n",
      "metadata": {
        "trusted": true
      },
      "execution_count": null,
      "outputs": []
    },
    {
      "cell_type": "code",
      "source": "#Question:9.Column “Index” should represent students IDs in numeric from so replace all this data with numeric student IDs\nprint(df.dtypes)\n\ndf['Index']=df['Index'].str.replace('Reg', '')\ndf['Index']=pd.to_numeric(df['Index'])\n\nprint(\"\\n\")\nprint(df)\n\nprint(\"\\n\")\nprint(df.dtypes)",
      "metadata": {
        "trusted": true
      },
      "execution_count": 60,
      "outputs": [
        {
          "name": "stdout",
          "text": "Index         object\nName          object\nMobile_No    float64\nMarks          int64\nCourse        object\nStatus        object\nGrade         object\nNew Grade     object\ndtype: object\n\n\n   Index Name  Mobile_No  Marks Course Status Grade New Grade\n0      1  AAA  1111111.0     90     OS   Pass     A         A\n1      2  BBB  2222222.0     80     ML   Pass     B         B\n2      3  CCC  3333333.0     40    BDA   Fail     F         F\n3      4  DDD  4444444.0     78    NLP   Pass     C         B\n4      5  EEE  5555555.0     63   MMAI   Pass     D         D\n5      3  CCC  3333333.0     40     OS   Fail     F         F\n6      6  FFF        NaN    105    BDA   Pass     A         A\n\n\nIndex          int64\nName          object\nMobile_No    float64\nMarks          int64\nCourse        object\nStatus        object\nGrade         object\nNew Grade     object\ndtype: object\n",
          "output_type": "stream"
        }
      ]
    },
    {
      "cell_type": "code",
      "source": "#Question 10. Display a list of data that contains names and marks of students only.\nprint(df[['Name','Marks']])\n",
      "metadata": {
        "trusted": true
      },
      "execution_count": 61,
      "outputs": [
        {
          "name": "stdout",
          "text": "  Name  Marks\n0  AAA     90\n1  BBB     80\n2  CCC     40\n3  DDD     78\n4  EEE     63\n5  CCC     40\n6  FFF    105\n",
          "output_type": "stream"
        }
      ]
    },
    {
      "cell_type": "code",
      "source": "",
      "metadata": {},
      "execution_count": null,
      "outputs": []
    }
  ]
}